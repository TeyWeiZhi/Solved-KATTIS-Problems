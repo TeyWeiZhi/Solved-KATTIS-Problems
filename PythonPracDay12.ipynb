{
 "cells": [
  {
   "cell_type": "code",
   "execution_count": 6,
   "id": "13fb5bd8-b84a-4196-8e67-4c42480c9275",
   "metadata": {},
   "outputs": [
    {
     "name": "stdin",
     "output_type": "stream",
     "text": [
      " 4 4 \n",
      " -3\n",
      " -3\n",
      " -2\n",
      " -3\n"
     ]
    },
    {
     "name": "stdout",
     "output_type": "stream",
     "text": [
      "-2.75 -2.75\n"
     ]
    }
   ],
   "source": [
    "# Rating Problem\n",
    "\n",
    "\n",
    "n, k = [int(x) for x in input().split()]\n",
    "\n",
    "rated_sum = 0\n",
    "for i in range(k):\n",
    "    r = int(input())\n",
    "    rated_sum = rated_sum + r\n",
    "\n",
    "unrated = n - k\n",
    "min_unrated_sum = unrated*(-3)\n",
    "max_unrated_sum = unrated*(3)\n",
    "    \n",
    "min_overall = (rated_sum + min_unrated_sum) / n\n",
    "max_overall = (rated_sum + max_unrated_sum) / n\n",
    "\n",
    "print(min_overall, max_overall)\n",
    "    "
   ]
  },
  {
   "cell_type": "code",
   "execution_count": 9,
   "id": "f9dd2703-4cf7-496f-95f6-8f7539468503",
   "metadata": {},
   "outputs": [
    {
     "name": "stdin",
     "output_type": "stream",
     "text": [
      " 5\n"
     ]
    },
    {
     "name": "stdout",
     "output_type": "stream",
     "text": [
      "Alice\n"
     ]
    }
   ],
   "source": [
    "# KATTIS Stupid Stone problem\n",
    "\n",
    "N = int(input())\n",
    "\n",
    "if N % 2 == 0:\n",
    "    print(\"Bob\")\n",
    "else: \n",
    "    print(\"Alice\")\n",
    "\n"
   ]
  },
  {
   "cell_type": "code",
   "execution_count": 12,
   "id": "29c2c1ab-7933-4c36-994b-5a66d76e6004",
   "metadata": {},
   "outputs": [
    {
     "name": "stdin",
     "output_type": "stream",
     "text": [
      " 5\n",
      " 1.0 12.0\n",
      " 0.7 5.2\n",
      " 0.9 10.7\n",
      " 0.5 20.4\n",
      " 0.2 30.0\n"
     ]
    },
    {
     "name": "stdout",
     "output_type": "stream",
     "text": [
      "41.47\n"
     ]
    }
   ],
   "source": [
    "# KATTIS Quality Adjusted Life-Year\n",
    "\n",
    "N = int(input())\n",
    "\n",
    "QALY_sum = 0\n",
    "for i in range(N):\n",
    "    q, y = [float(x) for x in input().split()]\n",
    "    QALY_each = q * y\n",
    "    QALY_sum = QALY_sum + QALY_each\n",
    "\n",
    "print(QALY_sum)"
   ]
  },
  {
   "cell_type": "code",
   "execution_count": 15,
   "id": "e2d5add5-ecae-4ad7-b339-0ba4bf196ad9",
   "metadata": {},
   "outputs": [
    {
     "name": "stdin",
     "output_type": "stream",
     "text": [
      " 9\n",
      " -13\n"
     ]
    },
    {
     "name": "stdout",
     "output_type": "stream",
     "text": [
      "4\n"
     ]
    }
   ],
   "source": [
    "# KATTIS Quadrant Selection\n",
    "\n",
    "x = int(input())\n",
    "y = int(input())\n",
    "\n",
    "if x >= 0 and y >= 0:\n",
    "    print(\"1\")\n",
    "if x <= 0 and y >= 0:\n",
    "    print(\"2\")\n",
    "if x <= 0 and y <= 0:\n",
    "    print(\"3\")\n",
    "if x >= 0 and y <= 0:\n",
    "    print(\"4\")\n",
    "\n",
    "\n"
   ]
  },
  {
   "cell_type": "code",
   "execution_count": null,
   "id": "4331becc-6529-4ae9-aef6-a61a057b9849",
   "metadata": {},
   "outputs": [],
   "source": []
  }
 ],
 "metadata": {
  "kernelspec": {
   "display_name": "Python 3",
   "language": "python",
   "name": "python3"
  },
  "language_info": {
   "codemirror_mode": {
    "name": "ipython",
    "version": 3
   },
   "file_extension": ".py",
   "mimetype": "text/x-python",
   "name": "python",
   "nbconvert_exporter": "python",
   "pygments_lexer": "ipython3",
   "version": "3.8.8"
  }
 },
 "nbformat": 4,
 "nbformat_minor": 5
}
