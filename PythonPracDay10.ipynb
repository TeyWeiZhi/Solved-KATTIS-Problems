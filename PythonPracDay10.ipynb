{
 "cells": [
  {
   "cell_type": "code",
   "execution_count": 15,
   "id": "11431c64-3f03-4b95-a787-1c44da1e792c",
   "metadata": {},
   "outputs": [
    {
     "name": "stdout",
     "output_type": "stream",
     "text": [
      "Welcome to the birthday dictionary!!!\n",
      "We have the names of:  Sora, Alicia, Kuen, Amin\n"
     ]
    },
    {
     "name": "stdin",
     "output_type": "stream",
     "text": [
      "Whose birthday are you searching for?:  Alicia\n"
     ]
    },
    {
     "name": "stdout",
     "output_type": "stream",
     "text": [
      "Alicia 's birthday is 27/03/2000\n"
     ]
    }
   ],
   "source": [
    "# Dictionaries\n",
    "# variable.get(key) helps search for the exact value of the key\n",
    "# Variable.update(keys) updates the pair\n",
    "# To make the loop, use  for key, value in dictionary.itmes()\n",
    "\n",
    "\n",
    "# Creating the birthday dictionary\n",
    "\n",
    "\n",
    "names = [\"Sora\", \"Alicia\", \"Kuen\", \"Amin\"]\n",
    "namelist = ', '.join(names)\n",
    "\n",
    "\n",
    "Birthday = {}\n",
    "\n",
    "Birthday[\"Sora\"] = \"13/06/1997\"\n",
    "Birthday[\"Alicia\"] = \"27/03/2000\"\n",
    "Birthday[\"Kuen\"] = \"25/07/1997\"\n",
    "Birthday[\"Amin\"] = \"12/04/1995\"\n",
    "\n",
    "print(\"Welcome to the birthday dictionary!!!\")\n",
    "print(\"We have the names of: \" , namelist)\n",
    "\n",
    "search = input(\"Whose birthday are you searching for?: \")\n",
    "for name, bday in Birthday.items():\n",
    "    if search == name:\n",
    "        print(name , \"'s birthday is\" , bday)\n",
    "\n"
   ]
  },
  {
   "cell_type": "code",
   "execution_count": 6,
   "id": "acce4cf7-94c3-470e-8ffa-b1814f9a77be",
   "metadata": {},
   "outputs": [
    {
     "name": "stdout",
     "output_type": "stream",
     "text": [
      "Welcome to the birthday dictionary!!!\n",
      "We have the names of:  Sora, Alicia, Kuen, Amin\n"
     ]
    },
    {
     "name": "stdin",
     "output_type": "stream",
     "text": [
      "do you want to add someone?(yes/no):  yes\n",
      "What is the new person's name?:  Paul\n",
      "What is the new person's birthday?:  12/03/1945\n"
     ]
    },
    {
     "name": "stdout",
     "output_type": "stream",
     "text": [
      "Paul has been added to the list!!\n"
     ]
    },
    {
     "name": "stdin",
     "output_type": "stream",
     "text": [
      "do you want to find someone?(yes/no):  yes\n",
      "Whose birthday are you searching for?:  Paul\n"
     ]
    },
    {
     "name": "stdout",
     "output_type": "stream",
     "text": [
      "Paul 's birthday is 12/03/1945\n"
     ]
    },
    {
     "name": "stdin",
     "output_type": "stream",
     "text": [
      "Anything else?(yes/no):  no\n"
     ]
    }
   ],
   "source": [
    "# Using a JSON file format\n",
    "# If need to load fata from JSON file to Python: \"with open('birthday.json', 'r') as b:    Birthday = json.load(b)\"\n",
    "\n",
    "\n",
    "import json\n",
    "\n",
    "Birthday = {}\n",
    "\n",
    "names = [\"Sora\", \"Alicia\", \"Kuen\", \"Amin\"]\n",
    "namelist = ', '.join(names)\n",
    "\n",
    "Birthday[\"Sora\"] = \"13/06/1997\"\n",
    "Birthday[\"Alicia\"] = \"27/03/2000\"\n",
    "Birthday[\"Kuen\"] = \"25/07/1997\"\n",
    "Birthday[\"Amin\"] = \"12/04/1995\"\n",
    "\n",
    "with open('birthday.json', 'w') as b:\n",
    "    json.dump(Birthday, b)\n",
    "\n",
    "# with open('birthday.json', 'r') as b:\n",
    "#     Birthday = json.load(b)\n",
    "\n",
    "def add_person():\n",
    "    new_name = input(\"What is the new person's name?: \")\n",
    "    new_date = str(input(\"What is the new person's birthday?: \"))\n",
    "    Birthday[new_name] = new_date\n",
    "    with open('birthday.json', 'w') as b:\n",
    "        json.dump(Birthday, b)\n",
    "        print(new_name , \"has been added to the list!!\")\n",
    "\n",
    "def find_person():\n",
    "    search = input(\"Whose birthday are you searching for?: \")\n",
    "    for name, bday in Birthday.items():\n",
    "        if search == name:\n",
    "            print(name , \"'s birthday is\" , bday)\n",
    "\n",
    "while True:\n",
    "    \n",
    "    print(\"Welcome to the birthday dictionary!!!\")\n",
    "    print(\"We have the names of: \" , namelist)\n",
    "    a = input(\"do you want to add someone?(yes/no): \")\n",
    "    if a == \"yes\":\n",
    "        add_person()\n",
    "    else:\n",
    "        continue\n",
    "    f = input(\"do you want to find someone?(yes/no): \")\n",
    "    if f == \"yes\":\n",
    "        find_person()\n",
    "    further = input(\"Anything else?(yes/no): \")\n",
    "    if further == \"yes\":\n",
    "        continue\n",
    "    else: \n",
    "        print(\"Sankyu, have a nice day uwu:)\")\n",
    "        break\n",
    "        \n",
    "\n",
    "\n",
    "    \n"
   ]
  },
  {
   "cell_type": "code",
   "execution_count": 20,
   "id": "47a65d75-a8d4-425b-9700-1453eff19eed",
   "metadata": {},
   "outputs": [
    {
     "name": "stdout",
     "output_type": "stream",
     "text": [
      "Counter({'March': 2, 'June': 1, 'July': 1, 'April': 1})\n"
     ]
    }
   ],
   "source": [
    "\n",
    "# Using Python Counter function!!\n",
    "# use \"from collections import Counter\" to count element duplication in a list\n",
    "# Remember to use dictionary key, e.g, \"num_to_month[sep]\" calls the value of the string month, by using the key int(sep).\n",
    "\n",
    "\n",
    "\n",
    "import json\n",
    "from collections import Counter\n",
    "\n",
    "with open('birthday.json', 'r') as b:\n",
    "    Birthday = json.load(b)\n",
    "\n",
    "num_to_month = {\n",
    "\t1: \"January\",\n",
    "\t2: \"February\",\n",
    "\t3: \"March\", \n",
    "\t4: \"April\",\n",
    "\t5: \"May\",\n",
    "\t6: \"June\",\n",
    "\t7: \"July\",\n",
    "\t8: \"August\",\n",
    "\t9: \"September\",\n",
    "\t10: \"October\",\n",
    "\t11: \"November\",\n",
    "\t12: \"December\"\n",
    "}\n",
    "\n",
    "\n",
    "def month_counter():\n",
    "    \n",
    "    month = []\n",
    "    for name, bday in Birthday.items():\n",
    "        sep = int(bday.split(\"/\")[1])\n",
    "        month.append(num_to_month[sep])\n",
    "\n",
    "    print(Counter(month))    \n",
    "\n",
    "month_counter()\n",
    "        "
   ]
  },
  {
   "cell_type": "code",
   "execution_count": 1,
   "id": "5f514062-55e1-4664-ac88-af3c62e1201f",
   "metadata": {},
   "outputs": [
    {
     "name": "stdout",
     "output_type": "stream",
     "text": [
      "Collecting package metadata (current_repodata.json): ...working... done\n",
      "Solving environment: ...working... done\n",
      "\n",
      "# All requested packages already installed.\n",
      "\n",
      "\n",
      "Note: you may need to restart the kernel to use updated packages.\n"
     ]
    }
   ],
   "source": [
    "# Installing Bokeh\n",
    "conda install bokeh "
   ]
  },
  {
   "cell_type": "code",
   "execution_count": 1,
   "id": "e6d3cfbe-77f4-4f53-abbe-5509b5ef0e03",
   "metadata": {},
   "outputs": [
    {
     "ename": "ValueError",
     "evalue": "failed to validate ColumnDataSource(id='1001', ...).data: expected an element of ColumnData(String, Seq(Any)), got {'Albert Einstein': '03/14/1879', 'Ada Byron Lovelace': '12/10/1815', 'Benjamin Franklin': '01/17/1706'}",
     "output_type": "error",
     "traceback": [
      "\u001b[1;31m---------------------------------------------------------------------------\u001b[0m",
      "\u001b[1;31mValueError\u001b[0m                                Traceback (most recent call last)",
      "\u001b[1;32m<ipython-input-1-b21858d85d46>\u001b[0m in \u001b[0;36m<module>\u001b[1;34m\u001b[0m\n\u001b[0;32m      9\u001b[0m \u001b[1;32mfrom\u001b[0m \u001b[0mbokeh\u001b[0m\u001b[1;33m.\u001b[0m\u001b[0mmodels\u001b[0m \u001b[1;32mimport\u001b[0m \u001b[0mColumnDataSource\u001b[0m\u001b[1;33m\u001b[0m\u001b[1;33m\u001b[0m\u001b[0m\n\u001b[0;32m     10\u001b[0m \u001b[1;33m\u001b[0m\u001b[0m\n\u001b[1;32m---> 11\u001b[1;33m \u001b[0mcolumn_data_source\u001b[0m \u001b[1;33m=\u001b[0m \u001b[0mColumnDataSource\u001b[0m\u001b[1;33m(\u001b[0m\u001b[0mBirthday\u001b[0m\u001b[1;33m)\u001b[0m\u001b[1;33m\u001b[0m\u001b[1;33m\u001b[0m\u001b[0m\n\u001b[0m\u001b[0;32m     12\u001b[0m \u001b[0mprint\u001b[0m\u001b[1;33m(\u001b[0m\u001b[0mcolumn_data_source\u001b[0m\u001b[1;33m)\u001b[0m\u001b[1;33m\u001b[0m\u001b[1;33m\u001b[0m\u001b[0m\n",
      "\u001b[1;32m~\\anaconda3\\lib\\site-packages\\bokeh\\models\\sources.py\u001b[0m in \u001b[0;36m__init__\u001b[1;34m(self, *args, **kw)\u001b[0m\n\u001b[0;32m    198\u001b[0m                 \u001b[1;32mraise\u001b[0m \u001b[0mValueError\u001b[0m\u001b[1;33m(\u001b[0m\u001b[1;34m\"expected a dict or pandas.DataFrame, got %s\"\u001b[0m \u001b[1;33m%\u001b[0m \u001b[0mraw_data\u001b[0m\u001b[1;33m)\u001b[0m\u001b[1;33m\u001b[0m\u001b[1;33m\u001b[0m\u001b[0m\n\u001b[0;32m    199\u001b[0m         \u001b[0msuper\u001b[0m\u001b[1;33m(\u001b[0m\u001b[1;33m)\u001b[0m\u001b[1;33m.\u001b[0m\u001b[0m__init__\u001b[0m\u001b[1;33m(\u001b[0m\u001b[1;33m**\u001b[0m\u001b[0mkw\u001b[0m\u001b[1;33m)\u001b[0m\u001b[1;33m\u001b[0m\u001b[1;33m\u001b[0m\u001b[0m\n\u001b[1;32m--> 200\u001b[1;33m         \u001b[0mself\u001b[0m\u001b[1;33m.\u001b[0m\u001b[0mdata\u001b[0m\u001b[1;33m.\u001b[0m\u001b[0mupdate\u001b[0m\u001b[1;33m(\u001b[0m\u001b[0mraw_data\u001b[0m\u001b[1;33m)\u001b[0m\u001b[1;33m\u001b[0m\u001b[1;33m\u001b[0m\u001b[0m\n\u001b[0m\u001b[0;32m    201\u001b[0m \u001b[1;33m\u001b[0m\u001b[0m\n\u001b[0;32m    202\u001b[0m     \u001b[1;33m@\u001b[0m\u001b[0mproperty\u001b[0m\u001b[1;33m\u001b[0m\u001b[1;33m\u001b[0m\u001b[0m\n",
      "\u001b[1;32m~\\anaconda3\\lib\\site-packages\\bokeh\\core\\property\\wrappers.py\u001b[0m in \u001b[0;36mupdate\u001b[1;34m(self, *args, **kwargs)\u001b[0m\n\u001b[0;32m    376\u001b[0m         \u001b[1;32mfor\u001b[0m \u001b[1;33m(\u001b[0m\u001b[0mowner\u001b[0m\u001b[1;33m,\u001b[0m \u001b[0mdescriptor\u001b[0m\u001b[1;33m)\u001b[0m \u001b[1;32min\u001b[0m \u001b[0mself\u001b[0m\u001b[1;33m.\u001b[0m\u001b[0m_owners\u001b[0m\u001b[1;33m:\u001b[0m\u001b[1;33m\u001b[0m\u001b[1;33m\u001b[0m\u001b[0m\n\u001b[0;32m    377\u001b[0m             \u001b[0mhint\u001b[0m \u001b[1;33m=\u001b[0m \u001b[0mColumnDataChangedEvent\u001b[0m\u001b[1;33m(\u001b[0m\u001b[0mowner\u001b[0m\u001b[1;33m.\u001b[0m\u001b[0mdocument\u001b[0m\u001b[1;33m,\u001b[0m \u001b[0mowner\u001b[0m\u001b[1;33m,\u001b[0m \u001b[0mcols\u001b[0m\u001b[1;33m=\u001b[0m\u001b[0mlist\u001b[0m\u001b[1;33m(\u001b[0m\u001b[0mcols\u001b[0m\u001b[1;33m)\u001b[0m\u001b[1;33m)\u001b[0m\u001b[1;33m\u001b[0m\u001b[1;33m\u001b[0m\u001b[0m\n\u001b[1;32m--> 378\u001b[1;33m             \u001b[0mdescriptor\u001b[0m\u001b[1;33m.\u001b[0m\u001b[0m_notify_mutated\u001b[0m\u001b[1;33m(\u001b[0m\u001b[0mowner\u001b[0m\u001b[1;33m,\u001b[0m \u001b[0mold\u001b[0m\u001b[1;33m,\u001b[0m \u001b[0mhint\u001b[0m\u001b[1;33m=\u001b[0m\u001b[0mhint\u001b[0m\u001b[1;33m)\u001b[0m\u001b[1;33m\u001b[0m\u001b[1;33m\u001b[0m\u001b[0m\n\u001b[0m\u001b[0;32m    379\u001b[0m \u001b[1;33m\u001b[0m\u001b[0m\n\u001b[0;32m    380\u001b[0m         \u001b[1;32mreturn\u001b[0m \u001b[0mresult\u001b[0m\u001b[1;33m\u001b[0m\u001b[1;33m\u001b[0m\u001b[0m\n",
      "\u001b[1;32m~\\anaconda3\\lib\\site-packages\\bokeh\\core\\property\\descriptors.py\u001b[0m in \u001b[0;36m_notify_mutated\u001b[1;34m(self, obj, old, hint)\u001b[0m\n\u001b[0;32m    882\u001b[0m         \u001b[1;31m# re-validate because the contents of 'old' have changed,\u001b[0m\u001b[1;33m\u001b[0m\u001b[1;33m\u001b[0m\u001b[1;33m\u001b[0m\u001b[0m\n\u001b[0;32m    883\u001b[0m         \u001b[1;31m# in some cases this could give us a new object for the value\u001b[0m\u001b[1;33m\u001b[0m\u001b[1;33m\u001b[0m\u001b[1;33m\u001b[0m\u001b[0m\n\u001b[1;32m--> 884\u001b[1;33m         \u001b[0mvalue\u001b[0m \u001b[1;33m=\u001b[0m \u001b[0mself\u001b[0m\u001b[1;33m.\u001b[0m\u001b[0mproperty\u001b[0m\u001b[1;33m.\u001b[0m\u001b[0mprepare_value\u001b[0m\u001b[1;33m(\u001b[0m\u001b[0mobj\u001b[0m\u001b[1;33m,\u001b[0m \u001b[0mself\u001b[0m\u001b[1;33m.\u001b[0m\u001b[0mname\u001b[0m\u001b[1;33m,\u001b[0m \u001b[0mvalue\u001b[0m\u001b[1;33m)\u001b[0m\u001b[1;33m\u001b[0m\u001b[1;33m\u001b[0m\u001b[0m\n\u001b[0m\u001b[0;32m    885\u001b[0m \u001b[1;33m\u001b[0m\u001b[0m\n\u001b[0;32m    886\u001b[0m         \u001b[0mself\u001b[0m\u001b[1;33m.\u001b[0m\u001b[0m_real_set\u001b[0m\u001b[1;33m(\u001b[0m\u001b[0mobj\u001b[0m\u001b[1;33m,\u001b[0m \u001b[0mold\u001b[0m\u001b[1;33m,\u001b[0m \u001b[0mvalue\u001b[0m\u001b[1;33m,\u001b[0m \u001b[0mhint\u001b[0m\u001b[1;33m=\u001b[0m\u001b[0mhint\u001b[0m\u001b[1;33m)\u001b[0m\u001b[1;33m\u001b[0m\u001b[1;33m\u001b[0m\u001b[0m\n",
      "\u001b[1;32m~\\anaconda3\\lib\\site-packages\\bokeh\\core\\property\\bases.py\u001b[0m in \u001b[0;36mprepare_value\u001b[1;34m(self, owner, name, value)\u001b[0m\n\u001b[0;32m    348\u001b[0m         \u001b[1;32melse\u001b[0m\u001b[1;33m:\u001b[0m\u001b[1;33m\u001b[0m\u001b[1;33m\u001b[0m\u001b[0m\n\u001b[0;32m    349\u001b[0m             \u001b[0mobj_repr\u001b[0m \u001b[1;33m=\u001b[0m \u001b[0mowner\u001b[0m \u001b[1;32mif\u001b[0m \u001b[0misinstance\u001b[0m\u001b[1;33m(\u001b[0m\u001b[0mowner\u001b[0m\u001b[1;33m,\u001b[0m \u001b[0mHasProps\u001b[0m\u001b[1;33m)\u001b[0m \u001b[1;32melse\u001b[0m \u001b[0mowner\u001b[0m\u001b[1;33m.\u001b[0m\u001b[0m__name__\u001b[0m\u001b[1;33m\u001b[0m\u001b[1;33m\u001b[0m\u001b[0m\n\u001b[1;32m--> 350\u001b[1;33m             \u001b[1;32mraise\u001b[0m \u001b[0mValueError\u001b[0m\u001b[1;33m(\u001b[0m\u001b[1;34mf\"failed to validate {obj_repr}.{name}: {error}\"\u001b[0m\u001b[1;33m)\u001b[0m\u001b[1;33m\u001b[0m\u001b[1;33m\u001b[0m\u001b[0m\n\u001b[0m\u001b[0;32m    351\u001b[0m \u001b[1;33m\u001b[0m\u001b[0m\n\u001b[0;32m    352\u001b[0m         \u001b[1;32mif\u001b[0m \u001b[0misinstance\u001b[0m\u001b[1;33m(\u001b[0m\u001b[0mowner\u001b[0m\u001b[1;33m,\u001b[0m \u001b[0mHasProps\u001b[0m\u001b[1;33m)\u001b[0m\u001b[1;33m:\u001b[0m\u001b[1;33m\u001b[0m\u001b[1;33m\u001b[0m\u001b[0m\n",
      "\u001b[1;31mValueError\u001b[0m: failed to validate ColumnDataSource(id='1001', ...).data: expected an element of ColumnData(String, Seq(Any)), got {'Albert Einstein': '03/14/1879', 'Ada Byron Lovelace': '12/10/1815', 'Benjamin Franklin': '01/17/1706'}"
     ]
    }
   ],
   "source": [
    "\n",
    "import json\n",
    "\n",
    "birthday = {}\n",
    "with open('scientist_birthdays.json', 'r') as s:\n",
    "    Birthday = json.load(s)\n",
    "\n",
    "\n",
    "    \n",
    "from bokeh.models import ColumnDataSource\n",
    "\n",
    "column_data_source = ColumnDataSource(Birthday)\n",
    "print(column_data_source)\n"
   ]
  },
  {
   "cell_type": "code",
   "execution_count": null,
   "id": "2c48f21a-9542-409f-8c40-34fd58294c5c",
   "metadata": {},
   "outputs": [],
   "source": []
  }
 ],
 "metadata": {
  "kernelspec": {
   "display_name": "Python 3",
   "language": "python",
   "name": "python3"
  },
  "language_info": {
   "codemirror_mode": {
    "name": "ipython",
    "version": 3
   },
   "file_extension": ".py",
   "mimetype": "text/x-python",
   "name": "python",
   "nbconvert_exporter": "python",
   "pygments_lexer": "ipython3",
   "version": "3.8.8"
  }
 },
 "nbformat": 4,
 "nbformat_minor": 5
}
