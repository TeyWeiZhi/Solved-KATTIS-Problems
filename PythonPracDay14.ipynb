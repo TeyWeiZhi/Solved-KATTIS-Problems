{
 "cells": [
  {
   "cell_type": "code",
   "execution_count": 2,
   "id": "5cf67f0b-a0f7-458d-8912-438e8fb9dcd3",
   "metadata": {},
   "outputs": [
    {
     "name": "stdin",
     "output_type": "stream",
     "text": [
      " 3\n",
      " 0 100 70\n"
     ]
    },
    {
     "name": "stdout",
     "output_type": "stream",
     "text": [
      "advertise\n"
     ]
    },
    {
     "name": "stdin",
     "output_type": "stream",
     "text": [
      " 100 130 30\n"
     ]
    },
    {
     "name": "stdout",
     "output_type": "stream",
     "text": [
      "does not matter\n"
     ]
    },
    {
     "name": "stdin",
     "output_type": "stream",
     "text": [
      " -100 -70 40\n"
     ]
    },
    {
     "name": "stdout",
     "output_type": "stream",
     "text": [
      "do not advertise\n"
     ]
    }
   ],
   "source": [
    "# KATTIS Nasty Hacks\n",
    "\n",
    "n = int(input())\n",
    "\n",
    "for i in range(n):\n",
    "    r, e, c = [int(x) for x in input().split()]\n",
    "    adv_profit = e - c\n",
    "    non_adv_profit = r\n",
    "    if adv_profit > non_adv_profit:\n",
    "        print(\"advertise\")\n",
    "    elif adv_profit == non_adv_profit:\n",
    "        print(\"does not matter\")\n",
    "    else: \n",
    "        print(\"do not advertise\")\n",
    "\n"
   ]
  },
  {
   "cell_type": "code",
   "execution_count": 5,
   "id": "b1bdb3c2-84e7-46b7-84e0-af6680e85569",
   "metadata": {},
   "outputs": [
    {
     "name": "stdin",
     "output_type": "stream",
     "text": [
      " 39\n",
      " 40\n",
      " 41\n",
      " 42\n",
      " 43\n",
      " 44\n",
      " 82\n",
      " 83\n",
      " 84\n",
      " 85\n"
     ]
    },
    {
     "name": "stdout",
     "output_type": "stream",
     "text": [
      "6\n"
     ]
    }
   ],
   "source": [
    "# KATTIS Modulo \n",
    "\n",
    "N = 10\n",
    "r = []\n",
    "\n",
    "for i in range(10):\n",
    "    integer = int(input())\n",
    "    x = integer % 42 \n",
    "    r.append(x)\n",
    "    set(r)\n",
    "print(len(set(r)))"
   ]
  },
  {
   "cell_type": "code",
   "execution_count": 11,
   "id": "b43f3aed-2416-4ef0-9015-0007a98688b4",
   "metadata": {},
   "outputs": [
    {
     "name": "stdin",
     "output_type": "stream",
     "text": [
      " 2\n",
      " 5\n"
     ]
    },
    {
     "name": "stdout",
     "output_type": "stream",
     "text": [
      "0\n"
     ]
    },
    {
     "name": "stdin",
     "output_type": "stream",
     "text": [
      " 2\n"
     ]
    },
    {
     "name": "stdout",
     "output_type": "stream",
     "text": [
      "2\n"
     ]
    }
   ],
   "source": [
    "\n",
    "# KATTIS Last Factorial Digit\n",
    "\n",
    "T = int(input())\n",
    "\n",
    "# base case: 0! = 1\n",
    "# recursive case: n! = n * (n - 1)!\n",
    "\n",
    "def fact(n):\n",
    "    if n >= 1:\n",
    "        result = n * fact(n-1)\n",
    "        return result\n",
    "    else:\n",
    "        return 1\n",
    "        \n",
    "for i in range(T):\n",
    "    N = int(input())\n",
    "    sum = str(fact(N))\n",
    "    num = int(sum[-1])\n",
    "    print(num)\n",
    "\n",
    "\n",
    "    \n"
   ]
  },
  {
   "cell_type": "code",
   "execution_count": 17,
   "id": "873a8f4b-d53c-4a9c-89ec-4fdeb36c4e1d",
   "metadata": {},
   "outputs": [
    {
     "name": "stdin",
     "output_type": "stream",
     "text": [
      " 35 30 25 29\n"
     ]
    },
    {
     "name": "stdout",
     "output_type": "stream",
     "text": [
      "0\n"
     ]
    }
   ],
   "source": [
    "# KATTIS Laptop Sticker!\n",
    "# Remember need to CENTRE the sticker, aka, divide by 2 for each side.\n",
    "\n",
    "wc, hc, ws, hs = [int(x) for x in input().split()]\n",
    "\n",
    "if ((wc - ws) / 2) >= 1 and ((hc - hs) / 2 ) >= 1:\n",
    "    print(\"1\")\n",
    "else: \n",
    "    print(\"0\")"
   ]
  },
  {
   "cell_type": "code",
   "execution_count": 22,
   "id": "2dba07a3-fa69-41f6-b15f-969493603b17",
   "metadata": {},
   "outputs": [
    {
     "name": "stdin",
     "output_type": "stream",
     "text": [
      " 3\n",
      " 1\n",
      " 50\n",
      " 40\n"
     ]
    },
    {
     "name": "stdout",
     "output_type": "stream",
     "text": [
      "89\n"
     ]
    }
   ],
   "source": [
    "# KATTIS JumboJavelin\n",
    "\n",
    "N = int(input())\n",
    "sum = 0\n",
    "for i in range(N):\n",
    "    if i == 0:\n",
    "        l = int(input())\n",
    "        sum = (sum + l)\n",
    "    else: \n",
    "        l = int(input())\n",
    "        sum = (sum + l) - 1\n",
    "        \n",
    "print(sum)"
   ]
  },
  {
   "cell_type": "code",
   "execution_count": 24,
   "id": "46e4a33d-d675-4e7d-ad1f-da6d4f3f2228",
   "metadata": {},
   "outputs": [
    {
     "name": "stdin",
     "output_type": "stream",
     "text": [
      " 2 2 2 \n"
     ]
    },
    {
     "name": "stdout",
     "output_type": "stream",
     "text": [
      "8\n"
     ]
    }
   ],
   "source": [
    "# KATTIS Jack O lantern\n",
    "\n",
    "N, T, M = [int(x) for x in input().split()]\n",
    "\n",
    "comb = N * T * M\n",
    "\n",
    "print(comb)"
   ]
  },
  {
   "cell_type": "code",
   "execution_count": 28,
   "id": "a1ba9c51-9fcd-42ec-8c4b-7562894a9dd0",
   "metadata": {},
   "outputs": [
    {
     "name": "stdin",
     "output_type": "stream",
     "text": [
      " 2\n",
      " 6 5.0000\n"
     ]
    },
    {
     "name": "stdout",
     "output_type": "stream",
     "text": [
      "60.0 72.0 84.0\n"
     ]
    },
    {
     "name": "stdin",
     "output_type": "stream",
     "text": [
      " 2 3.1222\n"
     ]
    },
    {
     "name": "stdout",
     "output_type": "stream",
     "text": [
      "19.217218627890592 38.434437255781184 57.65165588367177\n"
     ]
    }
   ],
   "source": [
    "# KATTIS Heart Rate\n",
    "# Note how to convert a list into a tuple!!!!\n",
    "\n",
    "N = int(input())\n",
    "\n",
    "for i in range(N):\n",
    "    b, p = tuple(input().split())\n",
    "    b = int(b)\n",
    "    p = float(p)\n",
    "    BPM = (60 * b) / p\n",
    "    min_ABPM = 60 * (b - 1) / p\n",
    "    max_ABPM = 60 * (b + 1) / p\n",
    "    \n",
    "    print (min_ABPM, BPM,  max_ABPM)\n",
    "    "
   ]
  },
  {
   "cell_type": "code",
   "execution_count": 39,
   "id": "6e69741a-bab2-4d47-bb2e-f59dc921d7fd",
   "metadata": {},
   "outputs": [
    {
     "ename": "KeyboardInterrupt",
     "evalue": "Interrupted by user",
     "output_type": "error",
     "traceback": [
      "\u001b[1;31m---------------------------------------------------------------------------\u001b[0m",
      "\u001b[1;31mKeyboardInterrupt\u001b[0m                         Traceback (most recent call last)",
      "\u001b[1;32m<ipython-input-39-44f904fdb105>\u001b[0m in \u001b[0;36m<module>\u001b[1;34m\u001b[0m\n\u001b[0;32m      3\u001b[0m \u001b[1;31m# Also note: how to continue the loop to the next integer\u001b[0m\u001b[1;33m\u001b[0m\u001b[1;33m\u001b[0m\u001b[1;33m\u001b[0m\u001b[0m\n\u001b[0;32m      4\u001b[0m \u001b[1;33m\u001b[0m\u001b[0m\n\u001b[1;32m----> 5\u001b[1;33m \u001b[0mn\u001b[0m \u001b[1;33m=\u001b[0m \u001b[0minput\u001b[0m\u001b[1;33m(\u001b[0m\u001b[1;33m)\u001b[0m\u001b[1;33m\u001b[0m\u001b[1;33m\u001b[0m\u001b[0m\n\u001b[0m\u001b[0;32m      6\u001b[0m \u001b[0mnum\u001b[0m \u001b[1;33m=\u001b[0m \u001b[0mint\u001b[0m\u001b[1;33m(\u001b[0m\u001b[0mn\u001b[0m\u001b[1;33m)\u001b[0m\u001b[1;33m\u001b[0m\u001b[1;33m\u001b[0m\u001b[0m\n\u001b[0;32m      7\u001b[0m \u001b[1;32mwhile\u001b[0m \u001b[1;32mTrue\u001b[0m\u001b[1;33m:\u001b[0m\u001b[1;33m\u001b[0m\u001b[1;33m\u001b[0m\u001b[0m\n",
      "\u001b[1;32m~\\anaconda3\\lib\\site-packages\\ipykernel\\kernelbase.py\u001b[0m in \u001b[0;36mraw_input\u001b[1;34m(self, prompt)\u001b[0m\n\u001b[0;32m    858\u001b[0m                 \u001b[1;34m\"raw_input was called, but this frontend does not support input requests.\"\u001b[0m\u001b[1;33m\u001b[0m\u001b[1;33m\u001b[0m\u001b[0m\n\u001b[0;32m    859\u001b[0m             )\n\u001b[1;32m--> 860\u001b[1;33m         return self._input_request(str(prompt),\n\u001b[0m\u001b[0;32m    861\u001b[0m             \u001b[0mself\u001b[0m\u001b[1;33m.\u001b[0m\u001b[0m_parent_ident\u001b[0m\u001b[1;33m,\u001b[0m\u001b[1;33m\u001b[0m\u001b[1;33m\u001b[0m\u001b[0m\n\u001b[0;32m    862\u001b[0m             \u001b[0mself\u001b[0m\u001b[1;33m.\u001b[0m\u001b[0m_parent_header\u001b[0m\u001b[1;33m,\u001b[0m\u001b[1;33m\u001b[0m\u001b[1;33m\u001b[0m\u001b[0m\n",
      "\u001b[1;32m~\\anaconda3\\lib\\site-packages\\ipykernel\\kernelbase.py\u001b[0m in \u001b[0;36m_input_request\u001b[1;34m(self, prompt, ident, parent, password)\u001b[0m\n\u001b[0;32m    902\u001b[0m             \u001b[1;32mexcept\u001b[0m \u001b[0mKeyboardInterrupt\u001b[0m\u001b[1;33m:\u001b[0m\u001b[1;33m\u001b[0m\u001b[1;33m\u001b[0m\u001b[0m\n\u001b[0;32m    903\u001b[0m                 \u001b[1;31m# re-raise KeyboardInterrupt, to truncate traceback\u001b[0m\u001b[1;33m\u001b[0m\u001b[1;33m\u001b[0m\u001b[1;33m\u001b[0m\u001b[0m\n\u001b[1;32m--> 904\u001b[1;33m                 \u001b[1;32mraise\u001b[0m \u001b[0mKeyboardInterrupt\u001b[0m\u001b[1;33m(\u001b[0m\u001b[1;34m\"Interrupted by user\"\u001b[0m\u001b[1;33m)\u001b[0m \u001b[1;32mfrom\u001b[0m \u001b[1;32mNone\u001b[0m\u001b[1;33m\u001b[0m\u001b[1;33m\u001b[0m\u001b[0m\n\u001b[0m\u001b[0;32m    905\u001b[0m             \u001b[1;32mexcept\u001b[0m \u001b[0mException\u001b[0m \u001b[1;32mas\u001b[0m \u001b[0me\u001b[0m\u001b[1;33m:\u001b[0m\u001b[1;33m\u001b[0m\u001b[1;33m\u001b[0m\u001b[0m\n\u001b[0;32m    906\u001b[0m                 \u001b[0mself\u001b[0m\u001b[1;33m.\u001b[0m\u001b[0mlog\u001b[0m\u001b[1;33m.\u001b[0m\u001b[0mwarning\u001b[0m\u001b[1;33m(\u001b[0m\u001b[1;34m\"Invalid Message:\"\u001b[0m\u001b[1;33m,\u001b[0m \u001b[0mexc_info\u001b[0m\u001b[1;33m=\u001b[0m\u001b[1;32mTrue\u001b[0m\u001b[1;33m)\u001b[0m\u001b[1;33m\u001b[0m\u001b[1;33m\u001b[0m\u001b[0m\n",
      "\u001b[1;31mKeyboardInterrupt\u001b[0m: Interrupted by user"
     ]
    }
   ],
   "source": [
    "# KATTIS Harshad Numbers\n",
    "# Note: how to convert integer into list of digits\n",
    "# Also note: how to continue the loop to the next integer\n",
    "# Note: Use NUMBER divide by 10 to get last number, modulo 10 to get next number, repeat!!!!\n",
    "\n",
    "n = input()\n",
    "num = int(n)\n",
    "while True:\n",
    "    n = str(num)\n",
    "    sum = 0\n",
    "    digits = [int(d) for d in n]\n",
    "    for i in digits: \n",
    "        sum = sum + i\n",
    "    if num % sum == 0:\n",
    "        print(n)\n",
    "        break\n",
    "    else:\n",
    "        num += 1      "
   ]
  },
  {
   "cell_type": "code",
   "execution_count": 46,
   "id": "469a4dfe-be9f-4a6d-9d6a-1d00588d54fa",
   "metadata": {},
   "outputs": [
    {
     "name": "stdin",
     "output_type": "stream",
     "text": [
      " 25\n"
     ]
    },
    {
     "name": "stdout",
     "output_type": "stream",
     "text": [
      "7\n",
      "61\n"
     ]
    }
   ],
   "source": [
    "# Alternative method\n",
    "\n",
    "n = input()\n",
    "num = int(n)\n",
    "while num % sum != 0:\n",
    "    n = str(num)\n",
    "    sum = 0\n",
    "    digits = [int(d) for d in n]\n",
    "    for i in digits: \n",
    "        sum = sum + i\n",
    "        num += 1\n",
    "print(sum)\n",
    "if num % sum == 0:\n",
    "    print(n)"
   ]
  },
  {
   "cell_type": "code",
   "execution_count": 49,
   "id": "f14a1ac4-1016-4bd6-b0b7-ba64749ca340",
   "metadata": {},
   "outputs": [
    {
     "name": "stdin",
     "output_type": "stream",
     "text": [
      " heeeeey\n"
     ]
    },
    {
     "name": "stdout",
     "output_type": "stream",
     "text": [
      "heeeeeeeeeey\n"
     ]
    }
   ],
   "source": [
    "# KATTIS Greeting\n",
    "\n",
    "s = input()\n",
    "\n",
    "letters = list(s)\n",
    "\n",
    "letters.remove(letters[0])\n",
    "letters.remove(letters[-1])\n",
    "\n",
    "repeat = \"\".join(letters) * 2\n",
    "greeting = [\"h\", repeat, \"y\" ]\n",
    "full = \"\".join(greeting)\n",
    "\n",
    "print(full)"
   ]
  },
  {
   "cell_type": "code",
   "execution_count": 1,
   "id": "4be4d24c-41f3-4b5f-9b0f-d8930b2db126",
   "metadata": {},
   "outputs": [
    {
     "ename": "SyntaxError",
     "evalue": "invalid syntax (<ipython-input-1-796e0f7fc145>, line 1)",
     "output_type": "error",
     "traceback": [
      "\u001b[1;36m  File \u001b[1;32m\"<ipython-input-1-796e0f7fc145>\"\u001b[1;36m, line \u001b[1;32m1\u001b[0m\n\u001b[1;33m    echo \"# Solved-KATTIS-Problems\" >> README.md\u001b[0m\n\u001b[1;37m         ^\u001b[0m\n\u001b[1;31mSyntaxError\u001b[0m\u001b[1;31m:\u001b[0m invalid syntax\n"
     ]
    }
   ],
   "source": []
  },
  {
   "cell_type": "code",
   "execution_count": null,
   "id": "1e482aed-31fb-4ecf-9003-54013f1b545a",
   "metadata": {},
   "outputs": [],
   "source": []
  }
 ],
 "metadata": {
  "kernelspec": {
   "display_name": "Python 3",
   "language": "python",
   "name": "python3"
  },
  "language_info": {
   "codemirror_mode": {
    "name": "ipython",
    "version": 3
   },
   "file_extension": ".py",
   "mimetype": "text/x-python",
   "name": "python",
   "nbconvert_exporter": "python",
   "pygments_lexer": "ipython3",
   "version": "3.8.8"
  }
 },
 "nbformat": 4,
 "nbformat_minor": 5
}
