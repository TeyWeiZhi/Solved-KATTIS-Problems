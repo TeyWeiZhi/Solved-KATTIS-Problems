{
 "cells": [
  {
   "cell_type": "code",
   "execution_count": 28,
   "id": "cf2915f3-ee2d-4546-ae0e-a221997a1a25",
   "metadata": {},
   "outputs": [
    {
     "ename": "SyntaxError",
     "evalue": "unexpected EOF while parsing (<ipython-input-28-28567ec4a210>, line 12)",
     "output_type": "error",
     "traceback": [
      "\u001b[1;36m  File \u001b[1;32m\"<ipython-input-28-28567ec4a210>\"\u001b[1;36m, line \u001b[1;32m12\u001b[0m\n\u001b[1;33m    print(\"The Largest number is: \" + str(largest())\u001b[0m\n\u001b[1;37m                                                    ^\u001b[0m\n\u001b[1;31mSyntaxError\u001b[0m\u001b[1;31m:\u001b[0m unexpected EOF while parsing\n"
     ]
    }
   ],
   "source": [
    "\n",
    "#Use list.sort to find the highest variable\n",
    "\n",
    "\n",
    "def largest():\n",
    "    n1 = int(input(\"Give me Number 1: \"))\n",
    "    n2 = int(input(\"Give me Number 2: \"))\n",
    "    n3 = int(input(\"Give me Number 3: \"))\n",
    "    group = [n1, n2, n3]\n",
    "    group.sort()\n",
    "    print(group[-1])\n",
    "\n",
    "print(largest())"
   ]
  },
  {
   "cell_type": "code",
   "execution_count": 4,
   "id": "a200c7f9-fb86-4752-9ad2-84de765f4bd4",
   "metadata": {
    "scrolled": true,
    "tags": []
   },
   "outputs": [
    {
     "name": "stdin",
     "output_type": "stream",
     "text": [
      "What is your game size?:  3\n"
     ]
    },
    {
     "name": "stdout",
     "output_type": "stream",
     "text": [
      " --- --- --- \n",
      "|   |   |   |   \n"
     ]
    },
    {
     "name": "stdin",
     "output_type": "stream",
     "text": [
      "What size of game board?  3\n"
     ]
    },
    {
     "name": "stdout",
     "output_type": "stream",
     "text": [
      " --- --- --- \n",
      "|   |   |   |   \n",
      " --- --- --- \n",
      "|   |   |   |   \n",
      " --- --- --- \n",
      "|   |   |   |   \n",
      " --- --- --- \n"
     ]
    }
   ],
   "source": [
    "def makeboard():    \n",
    "    boardsize = int(input(\"What is your game size?: \"))\n",
    "\n",
    "    rowstart = \" --- \"\n",
    "    rowmid = \"--- \"\n",
    "    rowend = \"--- \"\n",
    "    row = rowstart + (rowmid * (boardsize - 2)) + rowend\n",
    "    horiz = row\n",
    "    print(horiz)\n",
    "\n",
    "    colstart = \"|   \"\n",
    "    vert = colstart * (boardsize + 1)\n",
    "    print(vert)\n",
    "\n",
    "    def print_horiz_line():\n",
    "        print(horiz)\n",
    "\n",
    "    def print_vert_line():\n",
    "        print(vert)\n",
    "\n",
    "    if __name__ == \"__main__\":\n",
    "        board_size = int(input(\"What size of game board? \"))\n",
    "\n",
    "    for index in range(board_size):\n",
    "        print_horiz_line()\n",
    "        print_vert_line()\n",
    "    print_horiz_line()\n",
    "   \n",
    "\n",
    "makeboard()"
   ]
  },
  {
   "cell_type": "code",
   "execution_count": 33,
   "id": "10331acd-3dd1-4a50-93ff-24792dd06dfe",
   "metadata": {},
   "outputs": [
    {
     "ename": "TypeError",
     "evalue": "set expected at most 1 argument, got 3",
     "output_type": "error",
     "traceback": [
      "\u001b[1;31m---------------------------------------------------------------------------\u001b[0m",
      "\u001b[1;31mTypeError\u001b[0m                                 Traceback (most recent call last)",
      "\u001b[1;32m<ipython-input-33-46f42121f0e1>\u001b[0m in \u001b[0;36m<module>\u001b[1;34m\u001b[0m\n\u001b[0;32m     23\u001b[0m \u001b[1;33m\u001b[0m\u001b[0m\n\u001b[0;32m     24\u001b[0m \u001b[1;33m\u001b[0m\u001b[0m\n\u001b[1;32m---> 25\u001b[1;33m \u001b[0mprint\u001b[0m\u001b[1;33m(\u001b[0m\u001b[0mChecking\u001b[0m\u001b[1;33m(\u001b[0m\u001b[0mboard\u001b[0m\u001b[1;33m)\u001b[0m\u001b[1;33m)\u001b[0m\u001b[1;33m\u001b[0m\u001b[1;33m\u001b[0m\u001b[0m\n\u001b[0m",
      "\u001b[1;32m<ipython-input-33-46f42121f0e1>\u001b[0m in \u001b[0;36mChecking\u001b[1;34m(grid)\u001b[0m\n\u001b[0;32m      6\u001b[0m \u001b[1;33m\u001b[0m\u001b[0m\n\u001b[0;32m      7\u001b[0m     \u001b[1;32mfor\u001b[0m \u001b[0mx\u001b[0m \u001b[1;32min\u001b[0m \u001b[0mrange\u001b[0m\u001b[1;33m(\u001b[0m\u001b[1;36m0\u001b[0m\u001b[1;33m,\u001b[0m \u001b[1;36m3\u001b[0m\u001b[1;33m)\u001b[0m\u001b[1;33m:\u001b[0m\u001b[1;33m\u001b[0m\u001b[1;33m\u001b[0m\u001b[0m\n\u001b[1;32m----> 8\u001b[1;33m         \u001b[0mrow\u001b[0m \u001b[1;33m=\u001b[0m \u001b[0mset\u001b[0m\u001b[1;33m(\u001b[0m\u001b[0mgrid\u001b[0m\u001b[1;33m[\u001b[0m\u001b[0mx\u001b[0m\u001b[1;33m]\u001b[0m\u001b[1;33m[\u001b[0m\u001b[1;36m0\u001b[0m\u001b[1;33m]\u001b[0m\u001b[1;33m,\u001b[0m \u001b[0mgrid\u001b[0m\u001b[1;33m[\u001b[0m\u001b[0mx\u001b[0m\u001b[1;33m]\u001b[0m\u001b[1;33m[\u001b[0m\u001b[1;36m1\u001b[0m\u001b[1;33m]\u001b[0m\u001b[1;33m,\u001b[0m \u001b[0mgrid\u001b[0m\u001b[1;33m[\u001b[0m\u001b[0mx\u001b[0m\u001b[1;33m]\u001b[0m\u001b[1;33m[\u001b[0m\u001b[1;36m2\u001b[0m\u001b[1;33m]\u001b[0m\u001b[1;33m)\u001b[0m\u001b[1;33m\u001b[0m\u001b[1;33m\u001b[0m\u001b[0m\n\u001b[0m\u001b[0;32m      9\u001b[0m         \u001b[1;32mif\u001b[0m \u001b[0mlen\u001b[0m\u001b[1;33m(\u001b[0m\u001b[0mrow\u001b[0m\u001b[1;33m)\u001b[0m \u001b[1;33m==\u001b[0m \u001b[1;36m1\u001b[0m \u001b[1;32mand\u001b[0m \u001b[0mgrid\u001b[0m\u001b[1;33m[\u001b[0m\u001b[0mx\u001b[0m\u001b[1;33m]\u001b[0m\u001b[1;33m[\u001b[0m\u001b[1;36m0\u001b[0m\u001b[1;33m]\u001b[0m \u001b[1;33m!=\u001b[0m \u001b[1;36m0\u001b[0m\u001b[1;33m:\u001b[0m\u001b[1;33m\u001b[0m\u001b[1;33m\u001b[0m\u001b[0m\n\u001b[0;32m     10\u001b[0m             \u001b[1;32mreturn\u001b[0m \u001b[0mgrid\u001b[0m\u001b[1;33m[\u001b[0m\u001b[0mx\u001b[0m\u001b[1;33m]\u001b[0m\u001b[1;33m[\u001b[0m\u001b[1;36m0\u001b[0m\u001b[1;33m]\u001b[0m\u001b[1;33m\u001b[0m\u001b[1;33m\u001b[0m\u001b[0m\n",
      "\u001b[1;31mTypeError\u001b[0m: set expected at most 1 argument, got 3"
     ]
    }
   ],
   "source": [
    "# interacting with the tictactoe board\n",
    "def interaction():\n",
    "    board = [[0, 0, 0],\n",
    "            [0, 0, 0],\n",
    "            [0, 0, 0]]\n",
    "\n",
    "    def Player():\n",
    "        i = 1\n",
    "        while True:\n",
    "            p = input(\"Make your move (row, col):\")\n",
    "            p_list = p.split(\", \")\n",
    "            x = int(p_list[0])\n",
    "            y = int(p_list[1])\n",
    "            if x in range(1, 4) and y in range(1, 4) and board[x - 1][y - 1] == 0:\n",
    "                if i % 2 == 0:\n",
    "                    board[x - 1][y - 1] = 2\n",
    "                else:\n",
    "                    board[x - 1][y - 1] = 1\n",
    "                i += 1\n",
    "            else:\n",
    "                print(\"Invalid Move\")\n",
    "            for a in board:\n",
    "                print(a)\n",
    "\n",
    "    Player()"
   ]
  },
  {
   "cell_type": "code",
   "execution_count": 1,
   "id": "487c5a10-8d21-45e6-8d22-f9ace58e7c9b",
   "metadata": {},
   "outputs": [],
   "source": [
    "# Checking for the winner of the game\n",
    "def checkwinner(grid):\n",
    "\n",
    "    for x in range(0, 3):\n",
    "        row = {grid[x][0], grid[x][1], grid[x][2]}\n",
    "        if len(row) == 1 and grid[x][0] != 0:\n",
    "            print(\"The winner is player: \" , grid[x][0])\n",
    "            return 1\n",
    "\n",
    "    for x in range(0, 3):\n",
    "        column = {grid[0][x], grid[1][x], grid[2][x]}\n",
    "        if len(column) == 1 and grid[0][x] != 0:\n",
    "            print(\"The winner is player: \" , grid[0][x])\n",
    "            return 1\n",
    "        \n",
    "    diag1 = {grid[0][0], grid[1][1], grid[2][2]}\n",
    "    diag2 = {grid[0][2], grid[1][1], grid[2][0]}\n",
    "    if (len(diag1) == 1 or len(diag2) == 1) and grid[1][1] != 0:\n",
    "        print(\"The winner is player: \" , grid[1][1])\n",
    "        return 1\n",
    "    \n",
    "    return 0"
   ]
  },
  {
   "cell_type": "code",
   "execution_count": 3,
   "id": "4ceb21f0-adae-4fb2-8896-660c7bc5b0dc",
   "metadata": {},
   "outputs": [
    {
     "name": "stdin",
     "output_type": "stream",
     "text": [
      "Make your move (row, col): 3, 1\n"
     ]
    },
    {
     "name": "stdout",
     "output_type": "stream",
     "text": [
      "[0, 0, 0]\n",
      "[0, 0, 0]\n",
      "[1, 0, 0]\n"
     ]
    },
    {
     "name": "stdin",
     "output_type": "stream",
     "text": [
      "Make your move (row, col): 2, 3\n"
     ]
    },
    {
     "name": "stdout",
     "output_type": "stream",
     "text": [
      "[0, 0, 0]\n",
      "[0, 0, 2]\n",
      "[1, 0, 0]\n"
     ]
    },
    {
     "name": "stdin",
     "output_type": "stream",
     "text": [
      "Make your move (row, col): 2, 2\n"
     ]
    },
    {
     "name": "stdout",
     "output_type": "stream",
     "text": [
      "[0, 0, 0]\n",
      "[0, 1, 2]\n",
      "[1, 0, 0]\n"
     ]
    },
    {
     "name": "stdin",
     "output_type": "stream",
     "text": [
      "Make your move (row, col): 1, 1\n"
     ]
    },
    {
     "name": "stdout",
     "output_type": "stream",
     "text": [
      "[2, 0, 0]\n",
      "[0, 1, 2]\n",
      "[1, 0, 0]\n"
     ]
    },
    {
     "name": "stdin",
     "output_type": "stream",
     "text": [
      "Make your move (row, col): 3, 3\n"
     ]
    },
    {
     "name": "stdout",
     "output_type": "stream",
     "text": [
      "[2, 0, 0]\n",
      "[0, 1, 2]\n",
      "[1, 0, 1]\n"
     ]
    },
    {
     "name": "stdin",
     "output_type": "stream",
     "text": [
      "Make your move (row, col): 2, 3\n"
     ]
    },
    {
     "name": "stdout",
     "output_type": "stream",
     "text": [
      "Invalid Move\n",
      "[2, 0, 0]\n",
      "[0, 1, 2]\n",
      "[1, 0, 1]\n"
     ]
    },
    {
     "name": "stdin",
     "output_type": "stream",
     "text": [
      "Make your move (row, col): 1, 3\n"
     ]
    },
    {
     "name": "stdout",
     "output_type": "stream",
     "text": [
      "[2, 0, 2]\n",
      "[0, 1, 2]\n",
      "[1, 0, 1]\n"
     ]
    },
    {
     "name": "stdin",
     "output_type": "stream",
     "text": [
      "Make your move (row, col): 2, 1\n"
     ]
    },
    {
     "name": "stdout",
     "output_type": "stream",
     "text": [
      "[2, 0, 2]\n",
      "[1, 1, 2]\n",
      "[1, 0, 1]\n"
     ]
    },
    {
     "name": "stdin",
     "output_type": "stream",
     "text": [
      "Make your move (row, col): 3, 2\n"
     ]
    },
    {
     "name": "stdout",
     "output_type": "stream",
     "text": [
      "[2, 0, 2]\n",
      "[1, 1, 2]\n",
      "[1, 2, 1]\n"
     ]
    },
    {
     "name": "stdin",
     "output_type": "stream",
     "text": [
      "Make your move (row, col): 1, 2\n"
     ]
    },
    {
     "name": "stdout",
     "output_type": "stream",
     "text": [
      "[2, 1, 2]\n",
      "[1, 1, 2]\n",
      "[1, 2, 1]\n",
      "There is no winner\n"
     ]
    }
   ],
   "source": [
    "# interacting with the tictactoe board\n",
    "def interaction():\n",
    "    board = [[0, 0, 0],\n",
    "            [0, 0, 0],\n",
    "            [0, 0, 0]]\n",
    "\n",
    "    def Player():\n",
    "        result = 0\n",
    "        i = 1\n",
    "        while True:\n",
    "            p = input(\"Make your move (row, col):\")\n",
    "            p_list = p.split(\", \")\n",
    "            x = int(p_list[0])\n",
    "            y = int(p_list[1])\n",
    "            if x in range(1, 4) and y in range(1, 4) and board[x - 1][y - 1] == 0:\n",
    "                if i % 2 == 0:\n",
    "                    board[x - 1][y - 1] = 2\n",
    "                    result = checkwinner(board)\n",
    "                    \n",
    "                else:\n",
    "                    board[x - 1][y - 1] = 1\n",
    "                    result = checkwinner(board)\n",
    "                i += 1\n",
    "            else:\n",
    "                print(\"Invalid Move\")\n",
    "            for a in board:\n",
    "                print(a)\n",
    "            if result == 1:\n",
    "                print(\"The game has ended :)\")\n",
    "                break\n",
    "            if i == 10:\n",
    "                print(\"There is no winner\")\n",
    "                break\n",
    "\n",
    "    Player()\n",
    "\n",
    "interaction()"
   ]
  },
  {
   "cell_type": "code",
   "execution_count": 3,
   "id": "7bbfd38a-f823-4790-8ed0-ffdcc5bd19ec",
   "metadata": {},
   "outputs": [
    {
     "name": "stdout",
     "output_type": "stream",
     "text": [
      "SATURATOR\n",
      "\n"
     ]
    }
   ],
   "source": [
    "\n",
    "# Random string from a .txt file\n",
    "\n",
    "import random \n",
    "\n",
    "l = []\n",
    "\n",
    "with open('sowpods(dictionary).txt', 'r') as d:\n",
    "    for x in d:\n",
    "        x = d.readline()\n",
    "        l.append(x)\n",
    "wordIndex = random.choice(l)\n",
    "\n",
    "print(wordIndex)"
   ]
  },
  {
   "cell_type": "code",
   "execution_count": 2,
   "id": "c20b3fa2-e6f5-46cb-b070-f8a099b08f98",
   "metadata": {},
   "outputs": [
    {
     "name": "stdout",
     "output_type": "stream",
     "text": [
      "_ _ _ _ _ _ _ _ _ \n",
      "Hangman e Yokouso!!\n"
     ]
    },
    {
     "name": "stdin",
     "output_type": "stream",
     "text": [
      "Guess the letter!:  E\n"
     ]
    },
    {
     "name": "stdout",
     "output_type": "stream",
     "text": [
      "E _ _ _ _ _ _ _ _\n",
      "E _ _ _ _ _ _ _ E\n"
     ]
    },
    {
     "name": "stdin",
     "output_type": "stream",
     "text": [
      "Guess the letter!:  L\n"
     ]
    },
    {
     "name": "stdout",
     "output_type": "stream",
     "text": [
      "wrong letter, try again!!\n"
     ]
    },
    {
     "name": "stdin",
     "output_type": "stream",
     "text": [
      "Guess the letter!:  V\n"
     ]
    },
    {
     "name": "stdout",
     "output_type": "stream",
     "text": [
      "E V _ _ _ _ _ _ E\n"
     ]
    },
    {
     "name": "stdin",
     "output_type": "stream",
     "text": [
      "Guess the letter!:  O\n"
     ]
    },
    {
     "name": "stdout",
     "output_type": "stream",
     "text": [
      "E V _ _ O _ _ _ E\n"
     ]
    },
    {
     "name": "stdin",
     "output_type": "stream",
     "text": [
      "Guess the letter!:  R\n"
     ]
    },
    {
     "name": "stdout",
     "output_type": "stream",
     "text": [
      "E V _ _ O R _ _ E\n"
     ]
    },
    {
     "name": "stdin",
     "output_type": "stream",
     "text": [
      "Guess the letter!:  Q\n"
     ]
    },
    {
     "name": "stdout",
     "output_type": "stream",
     "text": [
      "wrong letter, try again!!\n"
     ]
    },
    {
     "name": "stdin",
     "output_type": "stream",
     "text": [
      "Guess the letter!:  Y\n"
     ]
    },
    {
     "name": "stdout",
     "output_type": "stream",
     "text": [
      "wrong letter, try again!!\n"
     ]
    },
    {
     "name": "stdin",
     "output_type": "stream",
     "text": [
      "Guess the letter!:  U\n"
     ]
    },
    {
     "name": "stdout",
     "output_type": "stream",
     "text": [
      "wrong letter, try again!!\n"
     ]
    },
    {
     "name": "stdin",
     "output_type": "stream",
     "text": [
      "Guess the letter!:  T\n"
     ]
    },
    {
     "name": "stdout",
     "output_type": "stream",
     "text": [
      "E V _ _ O R _ T E\n"
     ]
    },
    {
     "name": "stdin",
     "output_type": "stream",
     "text": [
      "Guess the letter!:  A\n"
     ]
    },
    {
     "name": "stdout",
     "output_type": "stream",
     "text": [
      "E V A _ O R _ T E\n",
      "E V A _ O R A T E\n"
     ]
    },
    {
     "name": "stdin",
     "output_type": "stream",
     "text": [
      "Guess the letter!:  P\n"
     ]
    },
    {
     "name": "stdout",
     "output_type": "stream",
     "text": [
      "E V A P O R A T E\n",
      "Congratulations, you hvae guessed the word!!!\n"
     ]
    },
    {
     "ename": "KeyboardInterrupt",
     "evalue": "Interrupted by user",
     "output_type": "error",
     "traceback": [
      "\u001b[1;31m---------------------------------------------------------------------------\u001b[0m",
      "\u001b[1;31mKeyboardInterrupt\u001b[0m                         Traceback (most recent call last)",
      "\u001b[1;32m<ipython-input-2-b446199400a9>\u001b[0m in \u001b[0;36m<module>\u001b[1;34m\u001b[0m\n\u001b[0;32m     24\u001b[0m             \u001b[0mprint\u001b[0m\u001b[1;33m(\u001b[0m\u001b[1;34m\"wrong letter, try again!!\"\u001b[0m\u001b[1;33m)\u001b[0m\u001b[1;33m\u001b[0m\u001b[1;33m\u001b[0m\u001b[0m\n\u001b[0;32m     25\u001b[0m \u001b[1;33m\u001b[0m\u001b[0m\n\u001b[1;32m---> 26\u001b[1;33m \u001b[0mhangman\u001b[0m\u001b[1;33m(\u001b[0m\u001b[1;33m)\u001b[0m\u001b[1;33m\u001b[0m\u001b[1;33m\u001b[0m\u001b[0m\n\u001b[0m\u001b[0;32m     27\u001b[0m \u001b[1;33m\u001b[0m\u001b[0m\n\u001b[0;32m     28\u001b[0m \u001b[1;33m\u001b[0m\u001b[0m\n",
      "\u001b[1;32m<ipython-input-2-b446199400a9>\u001b[0m in \u001b[0;36mhangman\u001b[1;34m()\u001b[0m\n\u001b[0;32m     11\u001b[0m     \u001b[1;32mwhile\u001b[0m \u001b[1;32mTrue\u001b[0m\u001b[1;33m:\u001b[0m\u001b[1;33m\u001b[0m\u001b[1;33m\u001b[0m\u001b[0m\n\u001b[0;32m     12\u001b[0m         \u001b[0mswitch\u001b[0m \u001b[1;33m=\u001b[0m \u001b[1;32mFalse\u001b[0m\u001b[1;33m\u001b[0m\u001b[1;33m\u001b[0m\u001b[0m\n\u001b[1;32m---> 13\u001b[1;33m         \u001b[0mletter_guess\u001b[0m \u001b[1;33m=\u001b[0m \u001b[0minput\u001b[0m\u001b[1;33m(\u001b[0m\u001b[1;34m\"Guess the letter!: \"\u001b[0m\u001b[1;33m)\u001b[0m\u001b[1;33m\u001b[0m\u001b[1;33m\u001b[0m\u001b[0m\n\u001b[0m\u001b[0;32m     14\u001b[0m         \u001b[1;32mfor\u001b[0m \u001b[0mi\u001b[0m\u001b[1;33m,\u001b[0m \u001b[0ml\u001b[0m \u001b[1;32min\u001b[0m \u001b[0menumerate\u001b[0m\u001b[1;33m(\u001b[0m\u001b[0mword\u001b[0m\u001b[1;33m)\u001b[0m\u001b[1;33m:\u001b[0m\u001b[1;33m\u001b[0m\u001b[1;33m\u001b[0m\u001b[0m\n\u001b[0;32m     15\u001b[0m             \u001b[1;32mif\u001b[0m \u001b[0ml\u001b[0m \u001b[1;33m==\u001b[0m \u001b[0mletter_guess\u001b[0m\u001b[1;33m:\u001b[0m\u001b[1;33m\u001b[0m\u001b[1;33m\u001b[0m\u001b[0m\n",
      "\u001b[1;32m~\\anaconda3\\lib\\site-packages\\ipykernel\\kernelbase.py\u001b[0m in \u001b[0;36mraw_input\u001b[1;34m(self, prompt)\u001b[0m\n\u001b[0;32m    858\u001b[0m                 \u001b[1;34m\"raw_input was called, but this frontend does not support input requests.\"\u001b[0m\u001b[1;33m\u001b[0m\u001b[1;33m\u001b[0m\u001b[0m\n\u001b[0;32m    859\u001b[0m             )\n\u001b[1;32m--> 860\u001b[1;33m         return self._input_request(str(prompt),\n\u001b[0m\u001b[0;32m    861\u001b[0m             \u001b[0mself\u001b[0m\u001b[1;33m.\u001b[0m\u001b[0m_parent_ident\u001b[0m\u001b[1;33m,\u001b[0m\u001b[1;33m\u001b[0m\u001b[1;33m\u001b[0m\u001b[0m\n\u001b[0;32m    862\u001b[0m             \u001b[0mself\u001b[0m\u001b[1;33m.\u001b[0m\u001b[0m_parent_header\u001b[0m\u001b[1;33m,\u001b[0m\u001b[1;33m\u001b[0m\u001b[1;33m\u001b[0m\u001b[0m\n",
      "\u001b[1;32m~\\anaconda3\\lib\\site-packages\\ipykernel\\kernelbase.py\u001b[0m in \u001b[0;36m_input_request\u001b[1;34m(self, prompt, ident, parent, password)\u001b[0m\n\u001b[0;32m    902\u001b[0m             \u001b[1;32mexcept\u001b[0m \u001b[0mKeyboardInterrupt\u001b[0m\u001b[1;33m:\u001b[0m\u001b[1;33m\u001b[0m\u001b[1;33m\u001b[0m\u001b[0m\n\u001b[0;32m    903\u001b[0m                 \u001b[1;31m# re-raise KeyboardInterrupt, to truncate traceback\u001b[0m\u001b[1;33m\u001b[0m\u001b[1;33m\u001b[0m\u001b[1;33m\u001b[0m\u001b[0m\n\u001b[1;32m--> 904\u001b[1;33m                 \u001b[1;32mraise\u001b[0m \u001b[0mKeyboardInterrupt\u001b[0m\u001b[1;33m(\u001b[0m\u001b[1;34m\"Interrupted by user\"\u001b[0m\u001b[1;33m)\u001b[0m \u001b[1;32mfrom\u001b[0m \u001b[1;32mNone\u001b[0m\u001b[1;33m\u001b[0m\u001b[1;33m\u001b[0m\u001b[0m\n\u001b[0m\u001b[0;32m    905\u001b[0m             \u001b[1;32mexcept\u001b[0m \u001b[0mException\u001b[0m \u001b[1;32mas\u001b[0m \u001b[0me\u001b[0m\u001b[1;33m:\u001b[0m\u001b[1;33m\u001b[0m\u001b[1;33m\u001b[0m\u001b[0m\n\u001b[0;32m    906\u001b[0m                 \u001b[0mself\u001b[0m\u001b[1;33m.\u001b[0m\u001b[0mlog\u001b[0m\u001b[1;33m.\u001b[0m\u001b[0mwarning\u001b[0m\u001b[1;33m(\u001b[0m\u001b[1;34m\"Invalid Message:\"\u001b[0m\u001b[1;33m,\u001b[0m \u001b[0mexc_info\u001b[0m\u001b[1;33m=\u001b[0m\u001b[1;32mTrue\u001b[0m\u001b[1;33m)\u001b[0m\u001b[1;33m\u001b[0m\u001b[1;33m\u001b[0m\u001b[0m\n",
      "\u001b[1;31mKeyboardInterrupt\u001b[0m: Interrupted by user"
     ]
    }
   ],
   "source": [
    "# Playing Hangman game!\n",
    "# Nested Loop = Loop inside a Loop\n",
    "# if break command only breaks the loop it is directly in \n",
    "# return breaks the function directly\n",
    "\n",
    "def hangman():\n",
    "    word = [\"E\", \"V\", \"A\", \"P\", \"O\", \"R\", \"A\", \"T\", \"E\"]\n",
    "    word_space = \"_ \"\n",
    "    empty = word_space * 9\n",
    "    group = empty.split()\n",
    "    print(empty)\n",
    "    print(\"Hangman e Yokouso!!\")\n",
    "    #switch = False\n",
    "    while True:\n",
    "        switch = False\n",
    "        letter_guess = input(\"Guess the letter!: \")\n",
    "        for i, l in enumerate(word):\n",
    "            if l == letter_guess:\n",
    "                switch = True\n",
    "                group[i] = l\n",
    "                print(\" \".join(group))\n",
    "            elif \" \".join(group) == \"E V A P O R A T E\":\n",
    "                switch = True\n",
    "                print(\"Congratulations, you hvae guessed the word!!!\")\n",
    "                return 0\n",
    "        if switch == False:\n",
    "            print(\"wrong letter, try again!!\")\n",
    "    \n",
    "hangman()\n",
    "            \n",
    "    "
   ]
  },
  {
   "cell_type": "code",
   "execution_count": 4,
   "id": "6ddb0afc-aea5-4aca-a34e-e4a0a5111a85",
   "metadata": {},
   "outputs": [
    {
     "name": "stdout",
     "output_type": "stream",
     "text": [
      "_ _ _ _ _ _ _ _ _ \n",
      "Hangman e Yokouso!!\n"
     ]
    },
    {
     "name": "stdin",
     "output_type": "stream",
     "text": [
      "Guess the letter!:  E\n"
     ]
    },
    {
     "ename": "AttributeError",
     "evalue": "'list' object has no attribute 'replace'",
     "output_type": "error",
     "traceback": [
      "\u001b[1;31m---------------------------------------------------------------------------\u001b[0m",
      "\u001b[1;31mAttributeError\u001b[0m                            Traceback (most recent call last)",
      "\u001b[1;32m<ipython-input-4-24806ea69668>\u001b[0m in \u001b[0;36m<module>\u001b[1;34m\u001b[0m\n\u001b[0;32m      9\u001b[0m     \u001b[1;32mfor\u001b[0m \u001b[0ml\u001b[0m \u001b[1;32min\u001b[0m \u001b[0mword\u001b[0m\u001b[1;33m:\u001b[0m\u001b[1;33m\u001b[0m\u001b[1;33m\u001b[0m\u001b[0m\n\u001b[0;32m     10\u001b[0m         \u001b[1;32mif\u001b[0m \u001b[0ml\u001b[0m \u001b[1;33m==\u001b[0m \u001b[0mletter_guess\u001b[0m\u001b[1;33m:\u001b[0m\u001b[1;33m\u001b[0m\u001b[1;33m\u001b[0m\u001b[0m\n\u001b[1;32m---> 11\u001b[1;33m             \u001b[0mgroup\u001b[0m\u001b[1;33m.\u001b[0m\u001b[0mreplace\u001b[0m\u001b[1;33m(\u001b[0m\u001b[1;34m'_'\u001b[0m\u001b[1;33m,\u001b[0m \u001b[0mletter_guess\u001b[0m\u001b[1;33m)\u001b[0m\u001b[1;33m\u001b[0m\u001b[1;33m\u001b[0m\u001b[0m\n\u001b[0m\u001b[0;32m     12\u001b[0m             \u001b[0mprint\u001b[0m\u001b[1;33m(\u001b[0m\u001b[1;34m\" \"\u001b[0m\u001b[1;33m.\u001b[0m\u001b[0mjoin\u001b[0m\u001b[1;33m(\u001b[0m\u001b[0mgroup\u001b[0m\u001b[1;33m)\u001b[0m\u001b[1;33m)\u001b[0m\u001b[1;33m\u001b[0m\u001b[1;33m\u001b[0m\u001b[0m\n",
      "\u001b[1;31mAttributeError\u001b[0m: 'list' object has no attribute 'replace'"
     ]
    }
   ],
   "source": [
    "word = [\"E\", \"V\", \"A\", \"P\", \"O\", \"R\", \"A\", \"T\", \"E\"]\n",
    "word_space = \"_ \"\n",
    "empty = word_space * 9\n",
    "group = empty.split()\n",
    "print(empty)\n",
    "print(\"Hangman e Yokouso!!\")\n",
    "while True:\n",
    "    letter_guess = input(\"Guess the letter!: \")\n",
    "    for l in word:\n",
    "        if l == letter_guess:\n",
    "            group.replace('_', letter_guess)\n",
    "            print(\" \".join(group))"
   ]
  },
  {
   "cell_type": "code",
   "execution_count": 3,
   "id": "4a21d14a-09c5-4823-b815-554fa8624a5c",
   "metadata": {},
   "outputs": [],
   "source": [
    "# REMEMBER for num in range(x, y) to change each number\n",
    "\n",
    "def factorial(n):\n",
    "    result = 1\n",
    "    for num in range(1, n+1):\n",
    "        result = num * result\n",
    "    print(result)\n",
    "\n",
    "factorial(5)"
   ]
  },
  {
   "cell_type": "code",
   "execution_count": 7,
   "id": "3453f61d-51f5-428b-b775-7f55a2f5e1f8",
   "metadata": {},
   "outputs": [
    {
     "data": {
      "text/plain": [
       "40320"
      ]
     },
     "execution_count": 7,
     "metadata": {},
     "output_type": "execute_result"
    }
   ],
   "source": [
    "# For recurssion must use Return, since we are assigning \"result\" a value, Rfac(n) must RETURN a value\n",
    "# Need a condition for the function to stop itself (i.e, the \"if n>= 1\" )\n",
    "\n",
    "base case: 0! = 1\n",
    "recursive case: n! = n * (n-1)!\n",
    "\n",
    "\n",
    "def Rfac(n):\n",
    "    if n >= 1:\n",
    "        result = n * Rfac(n-1)\n",
    "        return result\n",
    "    else:\n",
    "        return 1\n",
    "\n",
    "Rfac(8)"
   ]
  },
  {
   "cell_type": "code",
   "execution_count": 9,
   "id": "db9b5847-dca5-4089-a83a-8f0561ac1f38",
   "metadata": {},
   "outputs": [
    {
     "ename": "SyntaxError",
     "evalue": "invalid syntax (<ipython-input-9-0bed44c9913d>, line 5)",
     "output_type": "error",
     "traceback": [
      "\u001b[1;36m  File \u001b[1;32m\"<ipython-input-9-0bed44c9913d>\"\u001b[1;36m, line \u001b[1;32m5\u001b[0m\n\u001b[1;33m    def Rfac(int(n)):\u001b[0m\n\u001b[1;37m                ^\u001b[0m\n\u001b[1;31mSyntaxError\u001b[0m\u001b[1;31m:\u001b[0m invalid syntax\n"
     ]
    }
   ],
   "source": [
    "# base case: 0! = 1\n",
    "# recursive case: n! = n * (n-1)!\n",
    "\n",
    "\n",
    "def Rfac(n):\n",
    "    if n <= 0 :\n",
    "        return 1\n",
    "    else:\n",
    "        result = n * Rfac(n-1)\n",
    "        return result\n",
    "\n",
    "Rfac(4)"
   ]
  },
  {
   "cell_type": "code",
   "execution_count": 10,
   "id": "04ede675-caec-4d0a-bae0-d4e1196eb9a8",
   "metadata": {},
   "outputs": [
    {
     "name": "stdout",
     "output_type": "stream",
     "text": [
      "Hello World\n",
      "Hello World\n",
      "Hello World\n",
      "Hello World\n",
      "Hello World\n",
      "Hello World\n",
      "Hello World\n"
     ]
    }
   ],
   "source": [
    "def rep(n):\n",
    "    if n >= 1:\n",
    "        print(\"Hello World\")\n",
    "        rep(n - 1) \n",
    "\n",
    "rep(7)\n",
    "    "
   ]
  },
  {
   "cell_type": "code",
   "execution_count": null,
   "id": "9aae23ba-663e-446b-b188-ea68516e8bc8",
   "metadata": {},
   "outputs": [],
   "source": []
  }
 ],
 "metadata": {
  "kernelspec": {
   "display_name": "Python 3",
   "language": "python",
   "name": "python3"
  },
  "language_info": {
   "codemirror_mode": {
    "name": "ipython",
    "version": 3
   },
   "file_extension": ".py",
   "mimetype": "text/x-python",
   "name": "python",
   "nbconvert_exporter": "python",
   "pygments_lexer": "ipython3",
   "version": "3.8.8"
  }
 },
 "nbformat": 4,
 "nbformat_minor": 5
}
