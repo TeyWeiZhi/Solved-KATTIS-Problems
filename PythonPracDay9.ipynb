{
 "cells": [
  {
   "cell_type": "code",
   "execution_count": null,
   "id": "1d884af6-d32a-4bdd-8a1c-6e2fab0c5721",
   "metadata": {},
   "outputs": [],
   "source": [
    "def hangman():\n",
    "    word = [\"E\", \"V\", \"A\", \"P\", \"O\", \"R\", \"A\", \"T\", \"E\"]\n",
    "    word_space = \"_ \"\n",
    "    empty = word_space * 9\n",
    "    group = empty.split()\n",
    "    print(empty)\n",
    "    print(\"Hangman e Yokouso!!\")\n",
    "    #switch = False\n",
    "    while True:\n",
    "        switch = False\n",
    "        letter_guess = input(\"Guess the letter!: \")\n",
    "        for i, l in enumerate(word):\n",
    "            if l == letter_guess:\n",
    "                switch = True\n",
    "                group[i] = l\n",
    "                print(\" \".join(group))\n",
    "            elif \" \".join(group) == \"E V A P O R A T E\":\n",
    "                switch = True\n",
    "                print(\"Congratulations, you have guessed the word!!!\")\n",
    "                return 0\n",
    "        if switch == False:\n",
    "            print(\"wrong letter, try again!!\")\n",
    "    \n",
    "hangman()\n",
    "            "
   ]
  },
  {
   "cell_type": "code",
   "execution_count": 1,
   "id": "2eea26c4-58d8-4dfb-acd9-17371331703f",
   "metadata": {},
   "outputs": [
    {
     "name": "stdout",
     "output_type": "stream",
     "text": [
      "TORQUES\n",
      "\n"
     ]
    },
    {
     "data": {
      "text/plain": [
       "'TORQUES\\n'"
      ]
     },
     "execution_count": 1,
     "metadata": {},
     "output_type": "execute_result"
    }
   ],
   "source": [
    "\n",
    "# Random string from a .txt file\n",
    "def pick():\n",
    "    import random \n",
    "\n",
    "    l = []\n",
    "\n",
    "    with open('sowpods(dictionary).txt', 'r') as d:\n",
    "        for x in d:\n",
    "            x = d.readline()\n",
    "            l.append(x)\n",
    "    wordIndex = random.choice(l)\n",
    "    return wordIndex\n",
    "\n",
    "pick()"
   ]
  },
  {
   "cell_type": "code",
   "execution_count": 2,
   "id": "3309bd65-c47e-4d07-beef-51cbd815a9a4",
   "metadata": {},
   "outputs": [
    {
     "name": "stdout",
     "output_type": "stream",
     "text": [
      "LIMBOS\n",
      "\n",
      "FIDS\n",
      "\n",
      "_ _ _ _ \n",
      "Hangman e Yokouso!!\n"
     ]
    },
    {
     "name": "stdin",
     "output_type": "stream",
     "text": [
      "Guess the letter:  F\n"
     ]
    },
    {
     "name": "stdout",
     "output_type": "stream",
     "text": [
      "F _ _ _\n"
     ]
    },
    {
     "name": "stdin",
     "output_type": "stream",
     "text": [
      "Guess the letter:  P\n"
     ]
    },
    {
     "name": "stdout",
     "output_type": "stream",
     "text": [
      "wrong letter, try again!!\n",
      "Wrong guesses made:  1\n"
     ]
    },
    {
     "name": "stdin",
     "output_type": "stream",
     "text": [
      "Guess the letter:  O\n"
     ]
    },
    {
     "name": "stdout",
     "output_type": "stream",
     "text": [
      "wrong letter, try again!!\n",
      "Wrong guesses made:  2\n"
     ]
    },
    {
     "name": "stdin",
     "output_type": "stream",
     "text": [
      "Guess the letter:  Q\n"
     ]
    },
    {
     "name": "stdout",
     "output_type": "stream",
     "text": [
      "wrong letter, try again!!\n",
      "Wrong guesses made:  3\n"
     ]
    },
    {
     "name": "stdin",
     "output_type": "stream",
     "text": [
      "Guess the letter:  W\n"
     ]
    },
    {
     "name": "stdout",
     "output_type": "stream",
     "text": [
      "wrong letter, try again!!\n",
      "Wrong guesses made:  4\n"
     ]
    },
    {
     "name": "stdin",
     "output_type": "stream",
     "text": [
      "Guess the letter:  A\n"
     ]
    },
    {
     "name": "stdout",
     "output_type": "stream",
     "text": [
      "wrong letter, try again!!\n",
      "Wrong guesses made:  5\n"
     ]
    },
    {
     "name": "stdin",
     "output_type": "stream",
     "text": [
      "Guess the letter:  Z\n"
     ]
    },
    {
     "name": "stdout",
     "output_type": "stream",
     "text": [
      "wrong letter, try again!!\n",
      "Wrong guesses made:  6\n"
     ]
    },
    {
     "name": "stdin",
     "output_type": "stream",
     "text": [
      "do you want to play again?(yes/no):  yes\n"
     ]
    },
    {
     "name": "stdout",
     "output_type": "stream",
     "text": [
      "PROOFREADER\n",
      "\n",
      "BROOSE\n",
      "\n",
      "_ _ _ _ _ _ \n",
      "Hangman e Yokouso!!\n"
     ]
    },
    {
     "name": "stdin",
     "output_type": "stream",
     "text": [
      "Guess the letter:  B\n"
     ]
    },
    {
     "name": "stdout",
     "output_type": "stream",
     "text": [
      "B _ _ _ _ _\n"
     ]
    },
    {
     "name": "stdin",
     "output_type": "stream",
     "text": [
      "Guess the letter:  R\n"
     ]
    },
    {
     "name": "stdout",
     "output_type": "stream",
     "text": [
      "B R _ _ _ _\n"
     ]
    },
    {
     "name": "stdin",
     "output_type": "stream",
     "text": [
      "Guess the letter:  O\n"
     ]
    },
    {
     "name": "stdout",
     "output_type": "stream",
     "text": [
      "B R O _ _ _\n",
      "B R O O _ _\n"
     ]
    },
    {
     "name": "stdin",
     "output_type": "stream",
     "text": [
      "Guess the letter:  S\n"
     ]
    },
    {
     "name": "stdout",
     "output_type": "stream",
     "text": [
      "B R O O S _\n"
     ]
    },
    {
     "name": "stdin",
     "output_type": "stream",
     "text": [
      "Guess the letter:  E\n"
     ]
    },
    {
     "name": "stdout",
     "output_type": "stream",
     "text": [
      "B R O O S E\n",
      "Congratulations, you have guessed the word!!!\n"
     ]
    }
   ],
   "source": [
    "\n",
    "# Usually start with your break condition at the foremost start of the infinite for loop!!!\n",
    "# REMEMBER THE USE OF SWITCHES!!!! Can be used as conditions \n",
    "# If and elif(else if) are VERY DIFFERENT. Use multiple if conditions when need to satisfy multiple possibly true statements.\n",
    "\n",
    "w = pick()\n",
    "def hangman():\n",
    "    w = pick()\n",
    "    word = list(w.rstrip(\"\\n\"))\n",
    "    word_space = \"_ \"\n",
    "    empty = word_space * len(word)\n",
    "    group = empty.split()\n",
    "    print(empty)\n",
    "    print(\"Hangman e Yokouso!!\")\n",
    "    g = 0\n",
    "    \n",
    "    while g < 6:\n",
    "        if \" \".join(group) == \" \".join(word):\n",
    "                    print(\"Congratulations, you have guessed the word!!!\")\n",
    "                    break\n",
    "        switch = False\n",
    "        letter_guess = input(\"Guess the letter: \")\n",
    "        for i, l in enumerate(word):\n",
    "            if l == letter_guess:\n",
    "                switch = True\n",
    "                group[i] = l\n",
    "                print(\" \".join(group))\n",
    "        if switch == False:\n",
    "            print(\"wrong letter, try again!!\")\n",
    "            g += 1\n",
    "            print(\"Wrong guesses made: \" , g)\n",
    "    if g == 6:\n",
    "        restart = input(\"do you want to play again?(yes/no): \")\n",
    "        if restart == \"yes\":\n",
    "            pick()\n",
    "            hangman()\n",
    "\n",
    "hangman()\n"
   ]
  },
  {
   "cell_type": "code",
   "execution_count": 1,
   "id": "013ef414-ba5a-4dd1-a364-a66ff1532c3f",
   "metadata": {},
   "outputs": [
    {
     "ename": "NameError",
     "evalue": "name 'pick' is not defined",
     "output_type": "error",
     "traceback": [
      "\u001b[1;31m---------------------------------------------------------------------------\u001b[0m",
      "\u001b[1;31mNameError\u001b[0m                                 Traceback (most recent call last)",
      "\u001b[1;32m<ipython-input-1-df5d696ebd56>\u001b[0m in \u001b[0;36m<module>\u001b[1;34m\u001b[0m\n\u001b[1;32m----> 1\u001b[1;33m \u001b[0mw\u001b[0m \u001b[1;33m=\u001b[0m \u001b[0mpick\u001b[0m\u001b[1;33m(\u001b[0m\u001b[1;33m)\u001b[0m\u001b[1;33m\u001b[0m\u001b[1;33m\u001b[0m\u001b[0m\n\u001b[0m\u001b[0;32m      2\u001b[0m \u001b[1;32mdef\u001b[0m \u001b[0mhangman\u001b[0m\u001b[1;33m(\u001b[0m\u001b[1;33m)\u001b[0m\u001b[1;33m:\u001b[0m\u001b[1;33m\u001b[0m\u001b[1;33m\u001b[0m\u001b[0m\n\u001b[0;32m      3\u001b[0m     \u001b[0mword\u001b[0m \u001b[1;33m=\u001b[0m \u001b[0mlist\u001b[0m\u001b[1;33m(\u001b[0m\u001b[0mw\u001b[0m\u001b[1;33m.\u001b[0m\u001b[0mrstrip\u001b[0m\u001b[1;33m(\u001b[0m\u001b[1;34m\"\\n\"\u001b[0m\u001b[1;33m)\u001b[0m\u001b[1;33m)\u001b[0m\u001b[1;33m\u001b[0m\u001b[1;33m\u001b[0m\u001b[0m\n\u001b[0;32m      4\u001b[0m     \u001b[0mword_space\u001b[0m \u001b[1;33m=\u001b[0m \u001b[1;34m\"_ \"\u001b[0m\u001b[1;33m\u001b[0m\u001b[1;33m\u001b[0m\u001b[0m\n\u001b[0;32m      5\u001b[0m     \u001b[0mempty\u001b[0m \u001b[1;33m=\u001b[0m \u001b[0mword_space\u001b[0m \u001b[1;33m*\u001b[0m \u001b[0mlen\u001b[0m\u001b[1;33m(\u001b[0m\u001b[0mword\u001b[0m\u001b[1;33m)\u001b[0m\u001b[1;33m\u001b[0m\u001b[1;33m\u001b[0m\u001b[0m\n",
      "\u001b[1;31mNameError\u001b[0m: name 'pick' is not defined"
     ]
    }
   ],
   "source": [
    "\n",
    "\n",
    "#OG HANGMAN\n",
    "\n",
    "w = pick()\n",
    "def hangman():\n",
    "    word = list(w.rstrip(\"\\n\"))\n",
    "    word_space = \"_ \"\n",
    "    empty = word_space * len(word)\n",
    "    group = empty.split()\n",
    "    print(empty)\n",
    "    print(\"Hangman e Yokouso!!\")\n",
    "    g = 1\n",
    "    \n",
    "    while g <= 6:\n",
    "        \n",
    "        switch = False\n",
    "        letter_guess = input(\"Guess the letter!!\")\n",
    "        for i, l in enumerate(word):\n",
    "            if l == letter_guess:\n",
    "                switch = True\n",
    "                group[i] = l\n",
    "                print(\" \".join(group))\n",
    "            if \" \".join(group) == \" \".join(word):\n",
    "                switch = True\n",
    "                print(\"Congratulations, you have guessed the word!!!\")\n",
    "                restart = print(\"do you want to play again?(yes/no): \")\n",
    "                if restart == \"yes\":\n",
    "                    pick()\n",
    "                    hangman()\n",
    "                else: \n",
    "                    break\n",
    "                return 0\n",
    "        if switch == False:\n",
    "            print(\"wrong letter, try again!!\")\n",
    "        print(\"Guesses made: \" , g)\n",
    "        g += 1\n",
    "\n",
    "hangman()\n"
   ]
  },
  {
   "cell_type": "code",
   "execution_count": null,
   "id": "53427e3c-f551-4efb-ac61-d37c957de3a5",
   "metadata": {},
   "outputs": [],
   "source": []
  }
 ],
 "metadata": {
  "kernelspec": {
   "display_name": "Python 3",
   "language": "python",
   "name": "python3"
  },
  "language_info": {
   "codemirror_mode": {
    "name": "ipython",
    "version": 3
   },
   "file_extension": ".py",
   "mimetype": "text/x-python",
   "name": "python",
   "nbconvert_exporter": "python",
   "pygments_lexer": "ipython3",
   "version": "3.8.8"
  }
 },
 "nbformat": 4,
 "nbformat_minor": 5
}
